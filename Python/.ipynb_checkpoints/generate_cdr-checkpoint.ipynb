{
 "cells": [
  {
   "cell_type": "markdown",
   "metadata": {},
   "source": [
    "# Name: generate_cdr\n",
    "# Targ: Generate cdrs in spcified format\n",
    "# Parm IN: Number of rows in generated file \n",
    "#     OUT: DataFrame CDR \n",
    "#    Generated file: files_<YYYYMMDD-hh:mm:ss>.cdr\n"
   ]
  },
  {
   "cell_type": "code",
   "execution_count": 8,
   "metadata": {},
   "outputs": [],
   "source": [
    "# Defined cdr format\n",
    "#ID : unique identifier for a call\n",
    "#CALLING_NUM : A number\n",
    "#CALLED_NUM: B number\n",
    "#START TIME: Start time\n",
    "#END TIME: End time\n",
    "#CALL TYPE: SMS or VOICE\n",
    "#CHARGE: Estimated value of call (no dutties/charges/tax) ***N/A\n",
    "#CALL RESULT"
   ]
  },
  {
   "cell_type": "code",
   "execution_count": 9,
   "metadata": {},
   "outputs": [],
   "source": [
    "def ran_id():\n",
    "    # Calculate randon ID\n",
    "    import uuid\n",
    "    u = uuid.uuid4()\n",
    "    #print(u)\n",
    "    return str(u)"
   ]
  },
  {
   "cell_type": "code",
   "execution_count": 10,
   "metadata": {},
   "outputs": [
    {
     "data": {
      "text/plain": [
       "'32450d4b-04b5-42dc-a2e3-4701b8b4e7b4'"
      ]
     },
     "execution_count": 10,
     "metadata": {},
     "output_type": "execute_result"
    }
   ],
   "source": [
    "ran_id()"
   ]
  },
  {
   "cell_type": "code",
   "execution_count": 11,
   "metadata": {},
   "outputs": [],
   "source": [
    "def tel_carrier():\n",
    "    #Generate Telecon carrier\n",
    "    import random\n",
    "    #Randon Telecon carrier\n",
    "    telco = ['41', '31', '15', '21']\n",
    "    atelco = random.choice(telco)\n",
    "    btelco = random.choice(telco)\n",
    "    #print(atelco)\n",
    "    #print(btelco)\n",
    "    return atelco, btelco\n"
   ]
  },
  {
   "cell_type": "code",
   "execution_count": 12,
   "metadata": {},
   "outputs": [
    {
     "data": {
      "text/plain": [
       "('41', '21')"
      ]
     },
     "execution_count": 12,
     "metadata": {},
     "output_type": "execute_result"
    }
   ],
   "source": [
    "tel_carrier()"
   ]
  },
  {
   "cell_type": "code",
   "execution_count": 13,
   "metadata": {},
   "outputs": [],
   "source": [
    "def prefixo():\n",
    "    #Generate Prefixo/DDD\n",
    "    #Randon DDD\n",
    "    import random\n",
    "    ddd = ['11' ,'12' ,'13','14','15','16','17','18','19','21','22','24','27','28','31','32','33','34','35','37','38','41','42','43','44','45','46','47','48','49','51','53','54','55','61','62','63','64','65','66','67','68','69','71','73','74','75','77','79','81','82','83','84','85','86','87','88','89','91','92','93','94','95','96','97','98','99']\n",
    "    addd = random.choice(ddd)\n",
    "    bddd = random.choice(ddd)\n",
    "    #print(addd)\n",
    "    #print(bddd)\n",
    "    return addd, bddd\n"
   ]
  },
  {
   "cell_type": "code",
   "execution_count": 14,
   "metadata": {},
   "outputs": [
    {
     "data": {
      "text/plain": [
       "('34', '84')"
      ]
     },
     "execution_count": 14,
     "metadata": {},
     "output_type": "execute_result"
    }
   ],
   "source": [
    "prefixo()"
   ]
  },
  {
   "cell_type": "code",
   "execution_count": 15,
   "metadata": {},
   "outputs": [],
   "source": [
    "def generate_A_B_number():\n",
    "    #Generate random A and B number\n",
    "    import random\n",
    "    anumberp1 = str(random.randint(7000, 9999))\n",
    "    anumberp2 = str(random.randint(1000, 9999))\n",
    "    #print(anumberp1)\n",
    "    #print(anumberp2)\n",
    "\n",
    "    bnumberp1 = str(random.randint(7000, 9999))\n",
    "    bnumberp2 = str(random.randint(1000, 9999))\n",
    "    #print(bnumberp1)\n",
    "    #print(bnumberp2)\n",
    "    \n",
    "    #Getting telco\n",
    "    atelco = tel_carrier()[0]\n",
    "    btelco = tel_carrier()[1]\n",
    "    \n",
    "    #Getting telco\n",
    "    addd = prefixo()[0]\n",
    "    bddd = prefixo()[1]\n",
    "\n",
    "    anumber = atelco + addd + anumberp1 + anumberp2\n",
    "    bnumber = btelco + bddd + bnumberp1 + bnumberp2\n",
    "\n",
    "    #print(anumber)\n",
    "    #print(bnumber)\n",
    "    return str(anumber), str(bnumber)\n"
   ]
  },
  {
   "cell_type": "code",
   "execution_count": 16,
   "metadata": {},
   "outputs": [
    {
     "data": {
      "text/plain": [
       "('216982263064', '154377085319')"
      ]
     },
     "execution_count": 16,
     "metadata": {},
     "output_type": "execute_result"
    }
   ],
   "source": [
    "generate_A_B_number()"
   ]
  },
  {
   "cell_type": "code",
   "execution_count": 111,
   "metadata": {},
   "outputs": [],
   "source": [
    "def start_end_time():\n",
    "    #Start and end time\n",
    "    import random\n",
    "    from datetime import datetime, timedelta\n",
    "    # Randon date, max interval 3600 seconds\n",
    "    # Gerando data randomica apartir da atual\n",
    "    start_time = datetime.now() - timedelta(days=random.randint(1, 1095))\n",
    "    end_time = start_time + timedelta(seconds=random.randint(1, 3600))\n",
    "    \n",
    "    return start_time, end_time\n",
    "\n",
    "    #start_time = datetime(random.randint(2010, 2017), random.randint(1, 12) , random.randint(1, 28), random.randint(0, 23), random.randint(1, 59), random.randint(1, 59))\n",
    "    #temp_time = datetime.now()\n",
    "    #start_time = temp_time + timedelta(days=random.randint(1, 3600))\n",
    "    #start_time = datetime.now()\n",
    "    #print(str(start_time))\n",
    "    #d = datetime(YYYY, MM, DD, HH, mm, ss)\n",
    "    #end_time = start_time + timedelta(seconds=random.randint(1, 3600))\n",
    "    #print(end_time)\n",
    "    #return str(start_time), str(end_time)\n"
   ]
  },
  {
   "cell_type": "code",
   "execution_count": 112,
   "metadata": {},
   "outputs": [
    {
     "data": {
      "text/plain": [
       "(datetime.datetime(2016, 3, 29, 14, 17, 43, 623511),\n",
       " datetime.datetime(2016, 3, 29, 14, 46, 36, 623511))"
      ]
     },
     "execution_count": 112,
     "metadata": {},
     "output_type": "execute_result"
    }
   ],
   "source": [
    "start_end_time()"
   ]
  },
  {
   "cell_type": "code",
   "execution_count": 113,
   "metadata": {},
   "outputs": [],
   "source": [
    "def call_type():\n",
    "    #Call type = SMS / VOICE\n",
    "    import random\n",
    "    call_type = ['SMS', 'VOICE', 'VOICE', 'VOICE']\n",
    "    call_type_rec = random.choice(call_type)\n",
    "    #print(call_type_rec)\n",
    "    return call_type_rec"
   ]
  },
  {
   "cell_type": "code",
   "execution_count": 114,
   "metadata": {},
   "outputs": [
    {
     "data": {
      "text/plain": [
       "'VOICE'"
      ]
     },
     "execution_count": 114,
     "metadata": {},
     "output_type": "execute_result"
    }
   ],
   "source": [
    "call_type()"
   ]
  },
  {
   "cell_type": "code",
   "execution_count": 115,
   "metadata": {},
   "outputs": [],
   "source": [
    "def call_result():\n",
    "    #Call result = ANSWERED / REJECTED\n",
    "    import random\n",
    "    call_type = ['REJECTED', 'ANSWERED', 'ANSWERED', 'ANSWERED']\n",
    "    call_type_rec = random.choice(call_type)\n",
    "    #print(call_type_rec)\n",
    "    return call_type_rec"
   ]
  },
  {
   "cell_type": "code",
   "execution_count": 116,
   "metadata": {},
   "outputs": [
    {
     "data": {
      "text/plain": [
       "'ANSWERED'"
      ]
     },
     "execution_count": 116,
     "metadata": {},
     "output_type": "execute_result"
    }
   ],
   "source": [
    "call_result()"
   ]
  },
  {
   "cell_type": "markdown",
   "metadata": {},
   "source": [
    "## Criar o arquivo txt"
   ]
  },
  {
   "cell_type": "code",
   "execution_count": 117,
   "metadata": {},
   "outputs": [
    {
     "name": "stdout",
     "output_type": "stream",
     "text": [
      "ID,CALLING_NUM,CALLED_NUM,START_TIME,END_TIME,CALL_TYPE,CALL_RESULT\n",
      "1df12368-ecd3-47e7-a082-4e187a5f1953,153191121507,419388847707,2016-12-06 14:17:57.851392,2016-12-06 14:33:14.851392,VOICE,ANSWERED\n",
      "3b5ba4b8-7091-4b71-b55f-f9984c8d45d4,419398318311,218493451709,2016-07-14 14:17:57.851392,2016-07-14 14:22:18.851392,VOICE,ANSWERED\n",
      "97331015-1664-4948-b9fc-54b4c31cdb82,211689462628,216883388316,2018-04-17 14:17:57.851392,2018-04-17 14:39:38.851392,VOICE,ANSWERED\n",
      "c6cb448a-4bd1-4ee8-9cd2-d58e9a720819,157589615514,156195624308,2017-05-26 14:17:57.851392,2017-05-26 14:43:07.851392,VOICE,REJECTED\n",
      "a786ed73-f909-405c-8725-e7d9a021ef23,214281846947,313192565449,2018-06-08 14:17:57.852393,2018-06-08 14:24:19.852393,VOICE,REJECTED\n",
      "3c73b869-df23-47af-8bb3-11144eb7a2ad,319273117500,213594031158,2017-04-09 14:17:57.852393,2017-04-09 15:12:00.852393,VOICE,ANSWERED\n",
      "ca2c6759-c0ba-4bfb-9b50-3db673bdeeb1,219572649163,214688849358,2018-08-11 14:17:57.852393,2018-08-11 14:29:17.852393,VOICE,ANSWERED\n",
      "82d50ea8-28f0-4152-9972-973a31388692,416798941118,313272554153,2016-03-23 14:17:57.852393,2016-03-23 15:02:04.852393,VOICE,ANSWERED\n",
      "f1eb4cf7-5ff8-4d22-9208-50b96e8b242f,413280495453,312183191103,2016-05-15 14:17:57.852393,2016-05-15 15:04:59.852393,VOICE,ANSWERED\n",
      "0606c70e-98b1-43b7-bab4-6b195cf18335,313190862507,416486111636,2016-10-03 14:17:57.852393,2016-10-03 15:02:53.852393,SMS,REJECTED\n",
      "efa84b79-394e-494b-9951-fc71ae13f737,212771861020,315376729775,2017-12-17 14:17:57.852393,2017-12-17 14:25:04.852393,VOICE,ANSWERED\n",
      "acc7ce05-1575-45c7-9db6-db0455952419,416376815230,217795783319,2018-05-25 14:17:57.852393,2018-05-25 14:35:36.852393,VOICE,ANSWERED\n",
      "07ad105a-9baf-4549-b95b-a00a9c942a6d,157382297776,314573984568,2017-10-09 14:17:57.852393,2017-10-09 14:31:23.852393,VOICE,ANSWERED\n",
      "20157231-3c29-4bb9-9d99-14f29e528f87,417487068842,157573276699,2017-02-16 14:17:57.852393,2017-02-16 15:03:48.852393,VOICE,ANSWERED\n",
      "984a62e9-81ef-49cc-9770-c08b3eb74fda,414876575855,216378103253,2017-06-09 14:17:57.852393,2017-06-09 14:46:16.852393,VOICE,ANSWERED\n",
      "745cd30e-62b0-426a-8420-a508838fec41,219789637246,214596988467,2018-08-16 14:17:57.853390,2018-08-16 15:10:24.853390,VOICE,REJECTED\n",
      "5c8de875-856a-4cca-8822-cfd7b4fe2577,411597583254,319499908697,2016-09-30 14:17:57.853390,2016-09-30 14:42:11.853390,VOICE,ANSWERED\n",
      "4e97d7a7-02eb-4057-afcb-2d774fc06465,211192675883,215474741523,2017-10-28 14:17:57.853390,2017-10-28 14:30:52.853390,VOICE,ANSWERED\n",
      "a07ce92e-d963-4782-9a85-de10bf5fcb64,416571301370,151478137810,2016-10-03 14:17:57.853390,2016-10-03 14:24:16.853390,VOICE,ANSWERED\n",
      "4a06716e-1839-46f8-96a9-6f9b7f3c0ad6,418488284715,314999157099,2018-04-25 14:17:57.853390,2018-04-25 14:24:50.853390,VOICE,REJECTED\n",
      "fa55d59d-98f8-47f3-ad8d-66afde1b5231,214197256283,419270245749,2017-10-29 14:17:57.853390,2017-10-29 15:05:16.853390,SMS,ANSWERED\n",
      "2b5478de-9920-4936-99d7-7466abca23f8,413785323913,311585758680,2018-03-22 14:17:57.853390,2018-03-22 14:32:26.853390,VOICE,ANSWERED\n",
      "c302f251-e6fb-4069-9614-245e84f75906,156586401547,411273892050,2018-07-26 14:17:57.853390,2018-07-26 15:07:13.853390,VOICE,ANSWERED\n",
      "5c7e6c4f-c860-4643-affd-e8466ab4286d,417996088451,217789361281,2018-07-31 14:17:57.853390,2018-07-31 14:37:52.853390,SMS,REJECTED\n",
      "998a4e54-ea11-4393-8e0a-e0dea575eb93,415386255169,318475413537,2017-06-10 14:17:57.853390,2017-06-10 14:35:05.853390,VOICE,REJECTED\n",
      "18a6f72e-7f1c-4f10-b232-99552631ac5b,318688974748,151495385110,2016-11-30 14:17:57.853390,2016-11-30 15:17:26.853390,SMS,REJECTED\n",
      "9019db7b-2712-4b2e-872f-c3c78f9a116e,217590487414,218784196028,2018-01-18 14:17:57.853390,2018-01-18 14:30:16.853390,VOICE,ANSWERED\n",
      "1deb1edc-0cb4-4d83-81d2-c1e3c13588d3,219793034494,418597096121,2018-05-20 14:17:57.853390,2018-05-20 15:16:41.853390,VOICE,ANSWERED\n",
      "e3ecd351-91e2-4a9a-90e2-eedad9d66926,318579034307,218679584529,2017-09-16 14:17:57.853390,2017-09-16 15:12:49.853390,VOICE,ANSWERED\n",
      "96014f4b-3623-44b4-90db-d09ec244135a,313496985514,414475926259,2017-03-25 14:17:57.853390,2017-03-25 14:46:43.853390,VOICE,ANSWERED\n",
      "233a6840-66e7-4507-893d-c7ded59e0c6f,153284711897,419990086111,2016-02-20 14:17:57.853390,2016-02-20 14:40:40.853390,SMS,ANSWERED\n",
      "f75d8230-e7e6-4c48-bf65-581b3674745d,415489855282,418288461403,2015-09-22 14:17:57.854389,2015-09-22 14:48:49.854389,VOICE,ANSWERED\n",
      "c0eb1ead-29c4-49c6-978f-1af294bed117,158786262911,316992864549,2016-08-07 14:17:57.854389,2016-08-07 14:47:47.854389,SMS,ANSWERED\n",
      "0770d1e2-0e1d-417a-b920-353eb69e90ef,217186041227,317178478247,2017-06-16 14:17:57.854389,2017-06-16 14:32:34.854389,VOICE,ANSWERED\n",
      "5fe1f69c-33d3-4ba0-b43b-5c4f727f4e67,154987008635,414470025939,2015-11-07 14:17:57.854389,2015-11-07 14:26:20.854389,VOICE,ANSWERED\n",
      "8a2237e5-eb58-46a2-b190-5e7b7449d029,212485517721,156170379494,2018-05-15 14:17:57.854389,2018-05-15 14:53:15.854389,VOICE,ANSWERED\n",
      "a1ef10b7-903a-4c53-a73c-3f25d67a65e7,315498557397,151176325016,2018-07-08 14:17:57.854389,2018-07-08 15:14:04.854389,VOICE,ANSWERED\n",
      "6e37aba1-00d9-4915-b0fd-bdb7d7b5140f,218290252724,314791148146,2018-03-02 14:17:57.854389,2018-03-02 14:47:40.854389,VOICE,ANSWERED\n",
      "12362599-5721-4456-8531-d4aed20a0f2a,218285583559,158877129635,2017-07-09 14:17:57.854389,2017-07-09 14:35:53.854389,VOICE,REJECTED\n",
      "84eaee95-1b7f-4de7-8981-9f9c75c56662,216586735352,417173968038,2015-12-28 14:17:57.854389,2015-12-28 14:40:30.854389,VOICE,REJECTED\n",
      "\n"
     ]
    }
   ],
   "source": [
    "#Generating as a dict\n",
    "dict1 = {}\n",
    "type(generate_A_B_number())\n",
    "\n",
    "#Header of file\n",
    "reg = 'ID,CALLING_NUM,CALLED_NUM,START_TIME,END_TIME,CALL_TYPE,CALL_RESULT\\n'\n",
    "num_reg = 40\n",
    "i = 0 \n",
    "\n",
    "while i < num_reg:\n",
    "    #Dividindo o retorno\n",
    "    # A and B Number\n",
    "    numbers = generate_A_B_number()\n",
    "    anumber = numbers[0]\n",
    "    bnumber = numbers[1]\n",
    "    \n",
    "    #start end time\n",
    "    times = start_end_time()\n",
    "    init_time = str(times[0])\n",
    "    end_time  = str(times[1])\n",
    "    # Gerando o registro\n",
    "    reg = reg + ran_id() +\",\"+ anumber +\",\"+ bnumber +\",\"+ init_time +\",\"+ end_time +\",\"+ call_type() +\",\"+ call_result()+\"\\n\"\n",
    "    \n",
    "    i = i + 1\n",
    "print(reg)\n",
    "\n",
    "#Generating text cdr file\n",
    "cdr_txt = open(\"cdr.txt\",\"w\")\n",
    "cdr_txt.write(reg)\n",
    "cdr_txt.close()\n",
    "\n",
    "    # , 'CALLED_NUM' : bnumber, 'START_TIME' : init_time, 'END_TIME': end_time, 'CALL_TYPE' : call_type(), 'CALL_RESULT' : call_result()}\n",
    "\n",
    "#dict2.insert\n",
    "    #print(i)\n",
    "#print(reg)\n",
    "#print(dict1)\n",
    "    \n",
    "    #dict1 = {'ID' : ran_id(), 'CALLING_NUM' : anumber, 'CALLED_NUM' : anumber, 'START_TIME' : init_time, 'END_TIME': init_time, 'CALL_TYPE' : call_type(), 'CALL_RESULT' : call_result() }\n",
    "    #dict1 = [{'ID' : ran_id(), 'CALLING_NUM' : anumber, 'CALLED_NUM' : bnumber, 'START_TIME' : init_time, 'END_TIME': end_time, 'CALL_TYPE' : call_type(), 'CALL_RESULT' : call_result()}]\n",
    "    # Abaixo ok\n",
    "    #dict1[i] = {'ID' : ran_id(), 'CALLING_NUM' : anumber, 'CALLED_NUM' : bnumber, 'START_TIME' : init_time, 'END_TIME': end_time, 'CALL_TYPE' : call_type(), 'CALL_RESULT' : call_result()}\n",
    "\n",
    "#dict1 = [reg]\n",
    "#dict2 = dict1.values()\n",
    "#dict1.keys()\n",
    "#type(dict1)\n",
    "\n",
    "\n"
   ]
  },
  {
   "cell_type": "code",
   "execution_count": null,
   "metadata": {},
   "outputs": [],
   "source": [
    "testes...\n",
    "#import numpy as np\n",
    "import pandas as pd\n",
    "\n",
    "#df = pd.DataFrame(dict1[0].items(), columns=['ID', 'CALLING_NUM', 'CALLED_NUM', 'START_TIME', 'END_TIME', 'CALL_TYPE', 'CALL_RESULT'])\n",
    "df = pd.DataFrame([dict1], columns=['ID', 'CALLING_NUM', 'CALLED_NUM', 'START_TIME', 'END_TIME', 'CALL_TYPE', 'CALL_RESULT'])"
   ]
  },
  {
   "cell_type": "code",
   "execution_count": null,
   "metadata": {},
   "outputs": [],
   "source": [
    "print(df)"
   ]
  },
  {
   "cell_type": "code",
   "execution_count": null,
   "metadata": {},
   "outputs": [],
   "source": []
  }
 ],
 "metadata": {
  "kernelspec": {
   "display_name": "Python 3",
   "language": "python",
   "name": "python3"
  },
  "language_info": {
   "codemirror_mode": {
    "name": "ipython",
    "version": 3
   },
   "file_extension": ".py",
   "mimetype": "text/x-python",
   "name": "python",
   "nbconvert_exporter": "python",
   "pygments_lexer": "ipython3",
   "version": "3.6.4"
  }
 },
 "nbformat": 4,
 "nbformat_minor": 2
}
